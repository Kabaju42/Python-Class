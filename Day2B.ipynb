{
 "cells": [
  {
   "cell_type": "markdown",
   "metadata": {},
   "source": [
    "## Python Type System\n",
    "Python can be characterized as having a **dynamic** and **strong** type system."
   ]
  },
  {
   "cell_type": "markdown",
   "metadata": {},
   "source": [
    "### Dynamic Typing\n",
    "The **type** of an object isn't resolved until the program is run."
   ]
  },
  {
   "cell_type": "code",
   "execution_count": 1,
   "metadata": {
    "collapsed": true
   },
   "outputs": [],
   "source": [
    "def add(a, b):\n",
    "    return a+b\n",
    "\n",
    "# Nowhere in the definition are any types declared"
   ]
  },
  {
   "cell_type": "code",
   "execution_count": 3,
   "metadata": {},
   "outputs": [
    {
     "data": {
      "text/plain": [
       "4"
      ]
     },
     "execution_count": 3,
     "metadata": {},
     "output_type": "execute_result"
    }
   ],
   "source": [
    "# Call it with integers\n",
    "add (1, 3)"
   ]
  },
  {
   "cell_type": "code",
   "execution_count": 4,
   "metadata": {},
   "outputs": [
    {
     "data": {
      "text/plain": [
       "'hellowworld'"
      ]
     },
     "execution_count": 4,
     "metadata": {},
     "output_type": "execute_result"
    }
   ],
   "source": [
    "# Call it with strings\n",
    "\n",
    "add('hellow', 'world')"
   ]
  },
  {
   "cell_type": "code",
   "execution_count": 5,
   "metadata": {},
   "outputs": [
    {
     "data": {
      "text/plain": [
       "[1, 2, 3, 4, 5, 6]"
      ]
     },
     "execution_count": 5,
     "metadata": {},
     "output_type": "execute_result"
    }
   ],
   "source": [
    "# Do it with lists\n",
    "add([1, 2, 3], [4, 5, 6])"
   ]
  },
  {
   "cell_type": "code",
   "execution_count": 8,
   "metadata": {},
   "outputs": [
    {
     "data": {
      "text/plain": [
       "'1 hello'"
      ]
     },
     "execution_count": 8,
     "metadata": {},
     "output_type": "execute_result"
    }
   ],
   "source": [
    "# Strong typing\n",
    "# mixed objects not allowed\n",
    "\n",
    "#add(1, \"hello\") #doesn't work\n",
    "add(str(1), \" hello\") #does work\n"
   ]
  },
  {
   "cell_type": "markdown",
   "metadata": {},
   "source": [
    "## Variable Delcration and Scope\n",
    "\n",
    "Type declarationare not necessaray in Python, and variables are essentially just untyped name binding to objects\n",
    "\n",
    "### Identical names in global and local scope\n",
    "When you need a rebind a global name at module scope, follow the next rules:\n",
    "\n",
    "### The LEGB Rule\n",
    "There are four types of scopes: \n",
    "* **Local**: names defined inside the current function\n",
    "* **Enclosing**: names defined inside anyand all enclosing function.\n",
    "* **Global**: names defined at the top-level of a module\n",
    "* **Built-in**: names built into tthe Python lanuague thorugh the special  **builtins** module"
   ]
  },
  {
   "cell_type": "markdown",
   "metadata": {},
   "source": [
    "# Collections\n",
    "We have already test these collections:\n",
    "* **str** the immutable string sequence of unicode code points\n",
    "* **list** the mutable sequence of objects\n",
    "* **dict** the mutable mapping of immuatable keys to mutable objects\n",
    "\n",
    "## Some new collections:\n",
    "* **tuple** the immutable sequence of objects\n",
    "* **range** for arithmetic progression of integers\n",
    "* **set** a mutable collection of unique, immutable objects"
   ]
  },
  {
   "cell_type": "markdown",
   "metadata": {},
   "source": [
    "## Tuple\n",
    "Similar to list, but delimited by **parenthesis** rather than square brackets\n",
    "\n",
    "Access members y *index* notation with **[]**"
   ]
  },
  {
   "cell_type": "code",
   "execution_count": 12,
   "metadata": {},
   "outputs": [
    {
     "name": "stdout",
     "output_type": "stream",
     "text": [
      "('Ogden', 1.99, 2)\n",
      "<class 'tuple'>\n"
     ]
    },
    {
     "data": {
      "text/plain": [
       "'Ogden'"
      ]
     },
     "execution_count": 12,
     "metadata": {},
     "output_type": "execute_result"
    }
   ],
   "source": [
    "t = (\"Ogden\", 1.99, 2)\n",
    "print(t)\n",
    "print (type(t))\n",
    "t[0]"
   ]
  },
  {
   "cell_type": "code",
   "execution_count": 13,
   "metadata": {},
   "outputs": [
    {
     "data": {
      "text/plain": [
       "3"
      ]
     },
     "execution_count": 13,
     "metadata": {},
     "output_type": "execute_result"
    }
   ],
   "source": [
    "# Get the legnth\n",
    "len(t)"
   ]
  },
  {
   "cell_type": "code",
   "execution_count": 14,
   "metadata": {},
   "outputs": [
    {
     "name": "stdout",
     "output_type": "stream",
     "text": [
      "Ogden\n",
      "1.99\n",
      "2\n"
     ]
    }
   ],
   "source": [
    "# Iterate over a tuple\n",
    "for item in t:\n",
    "    print(item)"
   ]
  },
  {
   "cell_type": "markdown",
   "metadata": {},
   "source": [
    "### Concatenation and Repetition of Tuples\n"
   ]
  },
  {
   "cell_type": "code",
   "execution_count": 15,
   "metadata": {},
   "outputs": [
    {
     "data": {
      "text/plain": [
       "('Ogden', 1.99, 2, 'hello', 'you', 3)"
      ]
     },
     "execution_count": 15,
     "metadata": {},
     "output_type": "execute_result"
    }
   ],
   "source": [
    "t + ('hello', 'you', 3)"
   ]
  },
  {
   "cell_type": "code",
   "execution_count": 16,
   "metadata": {},
   "outputs": [
    {
     "data": {
      "text/plain": [
       "('Ogden', 1.99, 2, 'Ogden', 1.99, 2)"
      ]
     },
     "execution_count": 16,
     "metadata": {},
     "output_type": "execute_result"
    }
   ],
   "source": [
    "# Repetition\n",
    "t * 2"
   ]
  },
  {
   "cell_type": "markdown",
   "metadata": {},
   "source": [
    "### nested tuples"
   ]
  },
  {
   "cell_type": "code",
   "execution_count": 17,
   "metadata": {},
   "outputs": [
    {
     "data": {
      "text/plain": [
       "((220, 284), (1183, 1210), (6233, 1234))"
      ]
     },
     "execution_count": 17,
     "metadata": {},
     "output_type": "execute_result"
    }
   ],
   "source": [
    "a = ((220, 284), (1183, 1210), (6233, 1234))\n",
    "a\n"
   ]
  },
  {
   "cell_type": "code",
   "execution_count": 19,
   "metadata": {},
   "outputs": [
    {
     "data": {
      "text/plain": [
       "6233"
      ]
     },
     "execution_count": 19,
     "metadata": {},
     "output_type": "execute_result"
    }
   ],
   "source": [
    "# Access individidual members -- index notation\n",
    "a[2][0]"
   ]
  },
  {
   "cell_type": "code",
   "execution_count": 28,
   "metadata": {},
   "outputs": [
    {
     "name": "stdout",
     "output_type": "stream",
     "text": [
      "(342,)\n",
      "<class 'tuple'>\n"
     ]
    }
   ],
   "source": [
    "# single element tuple\n",
    "h = (342,) # add comma to force tupple\n",
    "print(h)\n",
    "print(type(h))"
   ]
  },
  {
   "cell_type": "code",
   "execution_count": 29,
   "metadata": {},
   "outputs": [
    {
     "name": "stdout",
     "output_type": "stream",
     "text": [
      "()\n",
      "<class 'tuple'>\n"
     ]
    }
   ],
   "source": [
    "# Empty tuple\n",
    "e = ()\n",
    "print(e)\n",
    "print(type(e))\n"
   ]
  },
  {
   "cell_type": "code",
   "execution_count": 31,
   "metadata": {},
   "outputs": [
    {
     "name": "stdout",
     "output_type": "stream",
     "text": [
      "(1, 1, 2, 3, 5)\n",
      "<class 'tuple'>\n"
     ]
    }
   ],
   "source": [
    "#optional parenthesis\n",
    "p = 1, 1, 2, 3, 5\n",
    "print(p)\n",
    "print(type(p))\n",
    "# note tuple is the default collection type"
   ]
  },
  {
   "cell_type": "markdown",
   "metadata": {},
   "source": [
    "### Returning and Unpacking Tuples\n",
    "This is often used when returning multiple values from a function"
   ]
  },
  {
   "cell_type": "code",
   "execution_count": 45,
   "metadata": {},
   "outputs": [
    {
     "name": "stdout",
     "output_type": "stream",
     "text": [
      "a =  (1, 156)\n",
      "type of a is  <class 'tuple'>\n"
     ]
    }
   ],
   "source": [
    "def minMax(items):\n",
    "    return(min(items), max(items))\n",
    "\n",
    "a = minMax([1, 3, 156])\n",
    "print ('a = ', a)\n",
    "print('type of a is ', type(a))"
   ]
  },
  {
   "cell_type": "code",
   "execution_count": 47,
   "metadata": {},
   "outputs": [
    {
     "name": "stdout",
     "output_type": "stream",
     "text": [
      "1\n",
      "156\n"
     ]
    }
   ],
   "source": [
    "# Returning multiple values form a function as a tuple is often used in conjunction with a feature called tuple unpacking\n",
    "lower, upper = minMax(a)\n",
    "print(lower)\n",
    "print(upper)"
   ]
  },
  {
   "cell_type": "markdown",
   "metadata": {},
   "source": [
    "#### Task\n",
    "Swap values of variables with tuple unpacking"
   ]
  },
  {
   "cell_type": "code",
   "execution_count": 49,
   "metadata": {},
   "outputs": [
    {
     "name": "stdout",
     "output_type": "stream",
     "text": [
      "bean\n",
      "jelly\n"
     ]
    }
   ],
   "source": [
    "a = \"jelly\"\n",
    "b = \"bean\"\n",
    "a, b = (b, a)\n",
    "print(a)\n",
    "print(b)"
   ]
  },
  {
   "cell_type": "markdown",
   "metadata": {},
   "source": [
    "### Tuple constructor: tuple(*iterable*)"
   ]
  },
  {
   "cell_type": "code",
   "execution_count": 53,
   "metadata": {},
   "outputs": [
    {
     "data": {
      "text/plain": [
       "(1, 2, 3, 4)"
      ]
     },
     "execution_count": 53,
     "metadata": {},
     "output_type": "execute_result"
    }
   ],
   "source": [
    "# list to tuiple\n",
    "tuple([1, 2, 3, 4])"
   ]
  },
  {
   "cell_type": "code",
   "execution_count": 54,
   "metadata": {},
   "outputs": [
    {
     "data": {
      "text/plain": [
       "('W',\n",
       " 'e',\n",
       " 'b',\n",
       " 'e',\n",
       " 'r',\n",
       " ' ',\n",
       " 'S',\n",
       " 't',\n",
       " 'a',\n",
       " 't',\n",
       " 'e',\n",
       " ' ',\n",
       " 'U',\n",
       " 'n',\n",
       " 'i',\n",
       " 'v',\n",
       " 'e',\n",
       " 'r',\n",
       " 's',\n",
       " 'i',\n",
       " 't',\n",
       " 'y')"
      ]
     },
     "execution_count": 54,
     "metadata": {},
     "output_type": "execute_result"
    }
   ],
   "source": [
    "#string to tuple\n",
    "tuple(\"Weber State University\")"
   ]
  },
  {
   "cell_type": "markdown",
   "metadata": {},
   "source": [
    "#### Test Membership"
   ]
  },
  {
   "cell_type": "code",
   "execution_count": 55,
   "metadata": {},
   "outputs": [
    {
     "data": {
      "text/plain": [
       "True"
      ]
     },
     "execution_count": 55,
     "metadata": {},
     "output_type": "execute_result"
    }
   ],
   "source": [
    "5 in (3, 5, 7, 11)"
   ]
  },
  {
   "cell_type": "code",
   "execution_count": 56,
   "metadata": {},
   "outputs": [
    {
     "data": {
      "text/plain": [
       "False"
      ]
     },
     "execution_count": 56,
     "metadata": {},
     "output_type": "execute_result"
    }
   ],
   "source": [
    "5 not in (3, 5, 7, 11)"
   ]
  },
  {
   "cell_type": "markdown",
   "metadata": {},
   "source": [
    "# Strings\n",
    "### Find the size of the string with len()"
   ]
  },
  {
   "cell_type": "code",
   "execution_count": 57,
   "metadata": {},
   "outputs": [
    {
     "data": {
      "text/plain": [
       "21"
      ]
     },
     "execution_count": 57,
     "metadata": {},
     "output_type": "execute_result"
    }
   ],
   "source": [
    "len(\"This is a long string\")"
   ]
  },
  {
   "cell_type": "markdown",
   "metadata": {},
   "source": [
    "### Concatenation of strings"
   ]
  },
  {
   "cell_type": "code",
   "execution_count": 58,
   "metadata": {},
   "outputs": [
    {
     "data": {
      "text/plain": [
       "'New world'"
      ]
     },
     "execution_count": 58,
     "metadata": {},
     "output_type": "execute_result"
    }
   ],
   "source": [
    "\"New\" + \" \" + \"world\""
   ]
  },
  {
   "cell_type": "code",
   "execution_count": 59,
   "metadata": {},
   "outputs": [
    {
     "name": "stdout",
     "output_type": "stream",
     "text": [
      "part1 part2 part3 part4\n"
     ]
    }
   ],
   "source": [
    "s = \"part1\"\n",
    "s += \" part2\"\n",
    "s += \" part3\"\n",
    "s += \" part4\"\n",
    "print(s)"
   ]
  },
  {
   "cell_type": "markdown",
   "metadata": {},
   "source": [
    "### Joining strings\n",
    "The recommendation is to use the built-in **join()** instead of += because it is more efficient memory wise\n",
    "\n",
    "The **join()** method takes a collection of strings as an arugment and produces a new string by inserting a seperator between each of them."
   ]
  },
  {
   "cell_type": "code",
   "execution_count": 70,
   "metadata": {},
   "outputs": [
    {
     "name": "stdout",
     "output_type": "stream",
     "text": [
      "Utah Jazz;LA Lakers;Boston Celtics\n"
     ]
    }
   ],
   "source": [
    "teams = \";\".join([\"Utah Jazz\", \"LA Lakers\", \"Boston Celtics\"])\n",
    "print(teams)"
   ]
  },
  {
   "cell_type": "code",
   "execution_count": 71,
   "metadata": {},
   "outputs": [
    {
     "name": "stdout",
     "output_type": "stream",
     "text": [
      "highlow\n"
     ]
    }
   ],
   "source": [
    "w = \"\".join([\"high\", \"low\", ])\n",
    "print(w)"
   ]
  },
  {
   "cell_type": "markdown",
   "metadata": {},
   "source": [
    "### Splitting a string with **split()**"
   ]
  },
  {
   "cell_type": "code",
   "execution_count": 72,
   "metadata": {},
   "outputs": [
    {
     "data": {
      "text/plain": [
       "['Utah Jazz', 'LA Lakers', 'Boston Celtics']"
      ]
     },
     "execution_count": 72,
     "metadata": {},
     "output_type": "execute_result"
    }
   ],
   "source": [
    "teams.split(\";\")"
   ]
  },
  {
   "cell_type": "markdown",
   "metadata": {},
   "source": [
    "### Partitioning Strings with Partition()\n",
    "This method returns a tuple"
   ]
  },
  {
   "cell_type": "code",
   "execution_count": 75,
   "metadata": {},
   "outputs": [
    {
     "name": "stdout",
     "output_type": "stream",
     "text": [
      "London\n",
      "Edinburg\n"
     ]
    }
   ],
   "source": [
    "departure, seperator, arrival = \"London:Edinburg\".partition(\":\")\n",
    "print(departure)\n",
    "print(arrival)"
   ]
  },
  {
   "cell_type": "code",
   "execution_count": 76,
   "metadata": {},
   "outputs": [
    {
     "name": "stdout",
     "output_type": "stream",
     "text": [
      "London\n",
      "Edinburg\n"
     ]
    }
   ],
   "source": [
    "#dummy object\n",
    "departure, _, arrival = \"London:Edinburg\".partition(\":\")\n",
    "print(departure)\n",
    "print(arrival)"
   ]
  },
  {
   "cell_type": "markdown",
   "metadata": {},
   "source": [
    "### String Formating with *format()*\n",
    "This method can be used on any string containing so-called replacement fields which are surrounded by curly braces."
   ]
  },
  {
   "cell_type": "code",
   "execution_count": 78,
   "metadata": {},
   "outputs": [
    {
     "name": "stdout",
     "output_type": "stream",
     "text": [
      "The age of Mario is 21\n"
     ]
    }
   ],
   "source": [
    "print(\"The age of {0} is {1}\".format(\"Mario\", 21))"
   ]
  },
  {
   "cell_type": "code",
   "execution_count": 81,
   "metadata": {},
   "outputs": [
    {
     "name": "stdout",
     "output_type": "stream",
     "text": [
      "The age of mario is 21. mario's birthday is on Feb 2\n"
     ]
    }
   ],
   "source": [
    "# you can repeat parameters in the string\n",
    "\n",
    "print(\"The age of {0} is {1}. {0}'s birthday is on {2}\".format(\"mario\", 21, \"Feb 2\"))"
   ]
  },
  {
   "cell_type": "code",
   "execution_count": 83,
   "metadata": {},
   "outputs": [
    {
     "name": "stdout",
     "output_type": "stream",
     "text": [
      "REticulating spline 4 of 23 \n"
     ]
    }
   ],
   "source": [
    "#if the field names are used once, and in the same order as the argument, they can be omitted\n",
    "\n",
    "print(\"Reticulating spline {} of {} \".format(4, 23))"
   ]
  },
  {
   "cell_type": "code",
   "execution_count": 85,
   "metadata": {},
   "outputs": [
    {
     "name": "stdout",
     "output_type": "stream",
     "text": [
      "Current position 60N 5e\n"
     ]
    }
   ],
   "source": [
    "# keyword arguments are suppleid to the format() then named fields can be used instead of ordinals:\n",
    "\n",
    "print(\"Current position {lat} {lon}\".format(lat = \"60N\", lon=\"5e\"))"
   ]
  },
  {
   "cell_type": "code",
   "execution_count": 86,
   "metadata": {},
   "outputs": [
    {
     "name": "stdout",
     "output_type": "stream",
     "text": [
      "galactic position x = 65.2, y = 23.1\n"
     ]
    }
   ],
   "source": [
    "# you can use index into the sequence using square brackets \n",
    "print(\"galactic position x = {pos[0]}, y = {pos[1]}\".format(pos=(65.2, 23.1)))"
   ]
  },
  {
   "cell_type": "markdown",
   "metadata": {},
   "source": [
    "# Range use *range()*\n",
    "A range is used to represent an arithmetic progression of integers."
   ]
  },
  {
   "cell_type": "code",
   "execution_count": 93,
   "metadata": {},
   "outputs": [
    {
     "data": {
      "text/plain": [
       "range(0, 5)"
      ]
     },
     "execution_count": 93,
     "metadata": {},
     "output_type": "execute_result"
    }
   ],
   "source": [
    "range(5)\n",
    "# default starting value is 0"
   ]
  },
  {
   "cell_type": "code",
   "execution_count": 95,
   "metadata": {},
   "outputs": [
    {
     "name": "stdout",
     "output_type": "stream",
     "text": [
      "0\n",
      "1\n",
      "2\n",
      "3\n",
      "4\n"
     ]
    }
   ],
   "source": [
    "#iterate over it\n",
    "\n",
    "for i in range(5):\n",
    "    print (i)"
   ]
  },
  {
   "cell_type": "code",
   "execution_count": 96,
   "metadata": {},
   "outputs": [
    {
     "name": "stdout",
     "output_type": "stream",
     "text": [
      "5\n",
      "6\n",
      "7\n",
      "8\n",
      "9\n"
     ]
    }
   ],
   "source": [
    "#SEt the initial value\n",
    "for i in range(5, 10):\n",
    "    print (i)"
   ]
  },
  {
   "cell_type": "code",
   "execution_count": 97,
   "metadata": {},
   "outputs": [
    {
     "data": {
      "text/plain": [
       "[10, 11, 12, 13, 14]"
      ]
     },
     "execution_count": 97,
     "metadata": {},
     "output_type": "execute_result"
    }
   ],
   "source": [
    "# cast it to a list\n",
    "list(range(10, 15))"
   ]
  },
  {
   "cell_type": "code",
   "execution_count": 103,
   "metadata": {},
   "outputs": [
    {
     "data": {
      "text/plain": [
       "[5, 6, 7, 8, 9, 15, 16, 17, 18, 19]"
      ]
     },
     "execution_count": 103,
     "metadata": {},
     "output_type": "execute_result"
    }
   ],
   "source": [
    "#combine multiple\n",
    "list(range(5, 10)) + list(range(15, 20))"
   ]
  },
  {
   "cell_type": "code",
   "execution_count": 104,
   "metadata": {},
   "outputs": [
    {
     "data": {
      "text/plain": [
       "[0, 2, 4, 6, 8, 10, 12, 14, 16, 18]"
      ]
     },
     "execution_count": 104,
     "metadata": {},
     "output_type": "execute_result"
    }
   ],
   "source": [
    "#set the step argument\n",
    "list(range(0, 20, 2))"
   ]
  },
  {
   "cell_type": "code",
   "execution_count": 105,
   "metadata": {},
   "outputs": [
    {
     "data": {
      "text/plain": [
       "[20, 18, 16, 14, 12, 10, 8, 6, 4, 2]"
      ]
     },
     "execution_count": 105,
     "metadata": {},
     "output_type": "execute_result"
    }
   ],
   "source": [
    "list(range(20, 0, -2))"
   ]
  },
  {
   "cell_type": "code",
   "execution_count": 106,
   "metadata": {},
   "outputs": [
    {
     "name": "stdout",
     "output_type": "stream",
     "text": [
      "0\n",
      "1\n",
      "4\n",
      "6\n",
      "13\n"
     ]
    }
   ],
   "source": [
    "# not using range to enumerate: poor style\n",
    "s = [0, 1, 4, 6, 13]\n",
    "for i in range(len(s)):\n",
    "    print(s[i])"
   ]
  },
  {
   "cell_type": "code",
   "execution_count": 108,
   "metadata": {},
   "outputs": [
    {
     "name": "stdout",
     "output_type": "stream",
     "text": [
      "0\n",
      "1\n",
      "4\n",
      "6\n",
      "13\n"
     ]
    }
   ],
   "source": [
    "# above code is very un-pythonic\n",
    "#python is no C\n",
    "for v in s:\n",
    "    print(v)"
   ]
  },
  {
   "cell_type": "markdown",
   "metadata": {},
   "source": [
    "If you need a counter, then use the **enumerate()** function\n",
    "which returns an iterable series:\n"
   ]
  },
  {
   "cell_type": "code",
   "execution_count": 109,
   "metadata": {},
   "outputs": [
    {
     "name": "stdout",
     "output_type": "stream",
     "text": [
      "(0, 6)\n",
      "(1, 11)\n",
      "(2, 33)\n",
      "(3, 444)\n",
      "(4, 55)\n",
      "(5, 1)\n"
     ]
    }
   ],
   "source": [
    "t = [6, 11, 33, 444, 55, 1]\n",
    "for p in enumerate(t):\n",
    "    print(p)\n",
    "# note p is a tuple and can be unpacked"
   ]
  },
  {
   "cell_type": "code",
   "execution_count": 111,
   "metadata": {},
   "outputs": [
    {
     "name": "stdout",
     "output_type": "stream",
     "text": [
      "i=0, v=6\n",
      "i=1, v=11\n",
      "i=2, v=33\n",
      "i=3, v=444\n",
      "i=4, v=55\n",
      "i=5, v=1\n"
     ]
    }
   ],
   "source": [
    "#unpack the tuple - i and v\n",
    "for i, v in enumerate(t):\n",
    "    print(\"i={0}, v={1}\".format(i, v))"
   ]
  },
  {
   "cell_type": "markdown",
   "metadata": {},
   "source": [
    "# List\n",
    "Heterogenous, mutable sequence\n",
    "* Index notation\n",
    "* square brackets"
   ]
  },
  {
   "cell_type": "code",
   "execution_count": 113,
   "metadata": {},
   "outputs": [
    {
     "data": {
      "text/plain": [
       "['Show', 'me', 'the', 'money']"
      ]
     },
     "execution_count": 113,
     "metadata": {},
     "output_type": "execute_result"
    }
   ],
   "source": [
    "s = \"Show me the money\".split()\n",
    "s\n"
   ]
  },
  {
   "cell_type": "code",
   "execution_count": 114,
   "metadata": {},
   "outputs": [
    {
     "data": {
      "text/plain": [
       "'money'"
      ]
     },
     "execution_count": 114,
     "metadata": {},
     "output_type": "execute_result"
    }
   ],
   "source": [
    "s[3]\n"
   ]
  },
  {
   "cell_type": "code",
   "execution_count": 115,
   "metadata": {},
   "outputs": [
    {
     "name": "stdout",
     "output_type": "stream",
     "text": [
      "money\n"
     ]
    }
   ],
   "source": [
    "# Negative indexing\n",
    "print(s[-1])"
   ]
  },
  {
   "cell_type": "code",
   "execution_count": 116,
   "metadata": {},
   "outputs": [
    {
     "data": {
      "text/plain": [
       "'the'"
      ]
     },
     "execution_count": 116,
     "metadata": {},
     "output_type": "execute_result"
    }
   ],
   "source": [
    "s[-2] #one before last\n",
    "\n",
    "# This is better than C style:\n",
    "s[len(s)-2]"
   ]
  },
  {
   "cell_type": "markdown",
   "metadata": {},
   "source": [
    "## Slicing List\n"
   ]
  },
  {
   "cell_type": "code",
   "execution_count": 117,
   "metadata": {},
   "outputs": [
    {
     "name": "stdout",
     "output_type": "stream",
     "text": [
      "[3, 185, 22, 44, 90, -2, 33]\n"
     ]
    }
   ],
   "source": [
    "s = [3, 185, 22, 44, 90, -2, 33]\n",
    "print(s)"
   ]
  },
  {
   "cell_type": "code",
   "execution_count": 120,
   "metadata": {},
   "outputs": [
    {
     "name": "stdout",
     "output_type": "stream",
     "text": [
      "[185, 22, 44]\n",
      "[185, 22, 44, 90, -2]\n"
     ]
    }
   ],
   "source": [
    "# getting a sub-range\n",
    "# called slicing\n",
    "print(s[1:4])\n",
    "print(s[1:-1])"
   ]
  },
  {
   "cell_type": "code",
   "execution_count": 123,
   "metadata": {},
   "outputs": [
    {
     "name": "stdout",
     "output_type": "stream",
     "text": [
      "[22, 44, 90, -2, 33]\n",
      "[3, 185, 22, 44]\n",
      "[3, 185, 22, 44, 90, -2, 33]\n"
     ]
    }
   ],
   "source": [
    "#starting position until the end\n",
    "print(s[2:])\n",
    "print(s[:4])\n",
    "print(s[:]) #full slice"
   ]
  },
  {
   "cell_type": "code",
   "execution_count": 124,
   "metadata": {},
   "outputs": [
    {
     "data": {
      "text/plain": [
       "False"
      ]
     },
     "execution_count": 124,
     "metadata": {},
     "output_type": "execute_result"
    }
   ],
   "source": [
    "# full slice is a deep copy??\n",
    "full_slice = s[:]\n",
    "full_slice is s"
   ]
  },
  {
   "cell_type": "code",
   "execution_count": 126,
   "metadata": {},
   "outputs": [
    {
     "data": {
      "text/plain": [
       "True"
      ]
     },
     "execution_count": 126,
     "metadata": {},
     "output_type": "execute_result"
    }
   ],
   "source": [
    "# same values?\n",
    "full_slice == s\n",
    "# deep copy"
   ]
  },
  {
   "cell_type": "markdown",
   "metadata": {},
   "source": [
    "## Copy list\n"
   ]
  },
  {
   "cell_type": "code",
   "execution_count": 127,
   "metadata": {},
   "outputs": [
    {
     "name": "stdout",
     "output_type": "stream",
     "text": [
      "True\n"
     ]
    }
   ],
   "source": [
    "t = s #shallow copy\n",
    "print(t is s)\n"
   ]
  },
  {
   "cell_type": "code",
   "execution_count": 128,
   "metadata": {},
   "outputs": [
    {
     "name": "stdout",
     "output_type": "stream",
     "text": [
      "False\n",
      "True\n"
     ]
    }
   ],
   "source": [
    "#prefered method is copy(), not full slice for better memory management\n",
    "u = s.copy()\n",
    "print(u is s)\n",
    "print(u == s)"
   ]
  },
  {
   "cell_type": "code",
   "execution_count": 129,
   "metadata": {},
   "outputs": [
    {
     "name": "stdout",
     "output_type": "stream",
     "text": [
      "False\n",
      "True\n"
     ]
    }
   ],
   "source": [
    "# simply call the list constructor list()\n",
    "v = list(s)\n",
    "print (v is s)\n",
    "print(v == s)"
   ]
  },
  {
   "cell_type": "markdown",
   "metadata": {},
   "source": [
    "## Shallow copies\n",
    "Copy the references, not the values"
   ]
  },
  {
   "cell_type": "code",
   "execution_count": 130,
   "metadata": {},
   "outputs": [
    {
     "name": "stdout",
     "output_type": "stream",
     "text": [
      "[[1, 2], [3, 4]]\n",
      "False\n",
      "True\n"
     ]
    }
   ],
   "source": [
    "a = [[1, 2], [3, 4]]\n",
    "print(a)\n",
    "b = a[:]\n",
    "print(a is b)\n",
    "print(a == b)\n"
   ]
  },
  {
   "cell_type": "code",
   "execution_count": 131,
   "metadata": {},
   "outputs": [
    {
     "name": "stdout",
     "output_type": "stream",
     "text": [
      "[1, 2]\n",
      "[1, 2]\n",
      "True\n"
     ]
    }
   ],
   "source": [
    "# Modify one list\n",
    "print(a[0])\n",
    "print(b[0])\n",
    "print(a[0] is b[0])\n"
   ]
  },
  {
   "cell_type": "code",
   "execution_count": 132,
   "metadata": {},
   "outputs": [
    {
     "name": "stdout",
     "output_type": "stream",
     "text": [
      "[8, 9]\n",
      "[1, 2]\n",
      "False\n"
     ]
    }
   ],
   "source": [
    "# The above statement is TRUE because all **copies are shallow**\n",
    "a[0] = [8, 9]\n",
    "print(a[0])\n",
    "print(b[0])\n",
    "print(a[0] is b[0])"
   ]
  },
  {
   "cell_type": "code",
   "execution_count": 133,
   "metadata": {},
   "outputs": [
    {
     "name": "stdout",
     "output_type": "stream",
     "text": [
      "True\n"
     ]
    }
   ],
   "source": [
    "print(a[1] is b[1])"
   ]
  },
  {
   "cell_type": "code",
   "execution_count": 136,
   "metadata": {},
   "outputs": [
    {
     "name": "stdout",
     "output_type": "stream",
     "text": [
      "[[8, 9], [3, 4, 5]]\n",
      "[[1, 2], [3, 4, 5]]\n"
     ]
    }
   ],
   "source": [
    "a[1].append(5)\n",
    "print(a)\n",
    "print(b)\n",
    "# woah - what happened? it didn't realize the need for a new one because it appended to a, not change it"
   ]
  },
  {
   "cell_type": "markdown",
   "metadata": {},
   "source": [
    "## Repeating a list\n",
    "As for strings ande tuples, list support repition using the multiplication operator\n"
   ]
  },
  {
   "cell_type": "code",
   "execution_count": 137,
   "metadata": {},
   "outputs": [
    {
     "name": "stdout",
     "output_type": "stream",
     "text": [
      "[21, 37, 21, 37, 21, 37, 21, 37]\n"
     ]
    }
   ],
   "source": [
    "c = [21, 37]\n",
    "d = c*4\n",
    "print(d)"
   ]
  },
  {
   "cell_type": "code",
   "execution_count": 139,
   "metadata": {},
   "outputs": [
    {
     "name": "stdout",
     "output_type": "stream",
     "text": [
      "[0, 0, 0, 0, 0, 0, 0, 0, 0]\n",
      "[[-1, 1], [-1, 1], [-1, 1], [-1, 1], [-1, 1]]\n",
      "[[-1, 1, 7], [-1, 1, 7], [-1, 1, 7], [-1, 1, 7], [-1, 1, 7]]\n"
     ]
    }
   ],
   "source": [
    "# Good to initalize values\n",
    "print([0] * 9)\n",
    "\n",
    "# but it's 9 copies of zero\n",
    "# Beware!\n",
    "\n",
    "s = [[-1, 1]] * 5\n",
    "print (s)\n",
    "\n",
    "# modify one member\n",
    "s[2].append(7)\n",
    "print (s)\n"
   ]
  },
  {
   "cell_type": "code",
   "execution_count": 140,
   "metadata": {},
   "outputs": [
    {
     "name": "stdout",
     "output_type": "stream",
     "text": [
      "[[-1, 1, 7], [3, 4, 5], [-1, 1, 7], [-1, 1, 7], [-1, 1, 7]]\n"
     ]
    }
   ],
   "source": [
    "s[1] = [3, 4, 5]\n",
    "print(s)"
   ]
  },
  {
   "cell_type": "markdown",
   "metadata": {},
   "source": [
    "Find the first element using **index()**"
   ]
  },
  {
   "cell_type": "code",
   "execution_count": 142,
   "metadata": {},
   "outputs": [
    {
     "name": "stdout",
     "output_type": "stream",
     "text": [
      "['the', 'quick', 'brown', 'fox', 'jumps', 'over', 'the', 'lazy', 'dog']\n",
      "3\n"
     ]
    }
   ],
   "source": [
    "w = \"the quick brown fox jumps over the lazy dog\".split()\n",
    "print(w)\n",
    "\n",
    "# get the index\n",
    "print(w.index('fox'))"
   ]
  },
  {
   "cell_type": "code",
   "execution_count": 143,
   "metadata": {},
   "outputs": [
    {
     "ename": "SyntaxError",
     "evalue": "invalid syntax (<ipython-input-143-49a39b80c112>, line 2)",
     "output_type": "error",
     "traceback": [
      "\u001b[1;36m  File \u001b[1;32m\"<ipython-input-143-49a39b80c112>\"\u001b[1;36m, line \u001b[1;32m2\u001b[0m\n\u001b[1;33m    print(w.index('unicorn')) -- Value error\u001b[0m\n\u001b[1;37m                                           ^\u001b[0m\n\u001b[1;31mSyntaxError\u001b[0m\u001b[1;31m:\u001b[0m invalid syntax\n"
     ]
    }
   ],
   "source": [
    "print(w.index('fox'))\n",
    "print(w.index('unicorn')) -- Value error"
   ]
  },
  {
   "cell_type": "markdown",
   "metadata": {},
   "source": [
    "To coun instances of a value in the list use **count()**"
   ]
  },
  {
   "cell_type": "code",
   "execution_count": 145,
   "metadata": {},
   "outputs": [
    {
     "name": "stdout",
     "output_type": "stream",
     "text": [
      "2\n",
      "0\n",
      "True\n",
      "False\n"
     ]
    }
   ],
   "source": [
    "print(w.count('the'))\n",
    "print(w.count('unicorn')) # test membership\n",
    "print(3 in [1, 2, 3, 4]) # test membership\n",
    "print(37 in [1, 2, 3, 4]) # test membership"
   ]
  },
  {
   "cell_type": "markdown",
   "metadata": {},
   "source": [
    "### Remove elelments from list with del()"
   ]
  },
  {
   "cell_type": "code",
   "execution_count": 148,
   "metadata": {},
   "outputs": [
    {
     "name": "stdout",
     "output_type": "stream",
     "text": [
      "['the', 'quick', 'brown', 'jumps', 'over', 'the', 'lazy', 'dog']\n"
     ]
    }
   ],
   "source": [
    "u = \"the quick brown fox jumps over the lazy dog\".split()\n",
    "del u[3]\n",
    "print(u)"
   ]
  },
  {
   "cell_type": "markdown",
   "metadata": {},
   "source": [
    "#### more remove with *remove()*\n"
   ]
  },
  {
   "cell_type": "code",
   "execution_count": 149,
   "metadata": {},
   "outputs": [
    {
     "name": "stdout",
     "output_type": "stream",
     "text": [
      "['the', 'quick', 'brown', 'over', 'the', 'lazy', 'dog']\n"
     ]
    }
   ],
   "source": [
    "u.remove(\"jumps\")\n",
    "print(u)"
   ]
  },
  {
   "cell_type": "markdown",
   "metadata": {},
   "source": [
    "#### Insert() Method\n",
    "Accepts the index of the new item and the new item itself"
   ]
  },
  {
   "cell_type": "code",
   "execution_count": 150,
   "metadata": {},
   "outputs": [
    {
     "name": "stdout",
     "output_type": "stream",
     "text": [
      "['I', 'accidentially', 'exploted', 'the', 'universe']\n",
      "['I', 'accidentially', 'exploted', 'the', 'whole', 'universe']\n"
     ]
    }
   ],
   "source": [
    "a = \"I accidentially exploted the universe\".split()\n",
    "print(a)\n",
    "a.insert(4, 'whole')\n",
    "print(a)"
   ]
  },
  {
   "cell_type": "markdown",
   "metadata": {},
   "source": [
    "### Concatenation of list"
   ]
  },
  {
   "cell_type": "code",
   "execution_count": 157,
   "metadata": {},
   "outputs": [
    {
     "name": "stdout",
     "output_type": "stream",
     "text": [
      "[1, 2, 3, 4, 5, 6]\n"
     ]
    }
   ],
   "source": [
    "m = [1, 2, 3]\n",
    "n = [4, 5, 6]\n",
    "k = m + n\n",
    "print(k)"
   ]
  },
  {
   "cell_type": "code",
   "execution_count": 158,
   "metadata": {},
   "outputs": [
    {
     "name": "stdout",
     "output_type": "stream",
     "text": [
      "[3, 185, 22, 44, 90, -2, 33, 18, 34, 99, 18, 34, 99, 18, 34, 99]\n"
     ]
    }
   ],
   "source": [
    "# where the augmented assignment operator +=\n",
    "# modifies the assignee in place\n",
    "t += [18, 34, 99]\n",
    "print(t)"
   ]
  },
  {
   "cell_type": "code",
   "execution_count": 159,
   "metadata": {},
   "outputs": [
    {
     "name": "stdout",
     "output_type": "stream",
     "text": [
      "[1, 2, 3, 4, 5, 6, 44, 45, 46]\n"
     ]
    }
   ],
   "source": [
    "# A similar effect can be achieved with extend()\n",
    "k.extend([44, 45, 46])\n",
    "print(k)"
   ]
  },
  {
   "cell_type": "markdown",
   "metadata": {},
   "source": [
    "### Rearrange elements:\n",
    "* reverse()\n",
    "* sort()\n",
    "* key()"
   ]
  },
  {
   "cell_type": "code",
   "execution_count": 160,
   "metadata": {},
   "outputs": [
    {
     "name": "stdout",
     "output_type": "stream",
     "text": [
      "[1, 11, 21, 31, 41, 51]\n",
      "[51, 41, 31, 21, 11, 1]\n",
      "[5, 22, 43, 11, -9, 0, 65, 33]\n",
      "[-9, 0, 5, 11, 22, 33, 43, 65]\n",
      "[65, 43, 33, 22, 11, 5, 0, -9]\n"
     ]
    }
   ],
   "source": [
    "g = [1, 11, 21, 31, 41, 51]\n",
    "print(g)\n",
    "g.reverse()\n",
    "print(g)\n",
    "\n",
    "# sort list\n",
    "d = [5, 22, 43, 11, -9, 0, 65, 33]\n",
    "print(d)\n",
    "d.sort()\n",
    "print(d)\n",
    "\n",
    "d.sort(reverse = True)\n",
    "print(d)"
   ]
  },
  {
   "cell_type": "code",
   "execution_count": null,
   "metadata": {
    "collapsed": true
   },
   "outputs": [],
   "source": [
    "# the key parameter is more interesting\n"
   ]
  },
  {
   "cell_type": "code",
   "execution_count": 161,
   "metadata": {},
   "outputs": [
    {
     "name": "stdout",
     "output_type": "stream",
     "text": [
      "['the', 'fox', 'the', 'dog', 'over', 'lazy', 'quick', 'brown', 'jumps']\n"
     ]
    }
   ],
   "source": [
    "w = \"the quick brown fox jumps over the lazy dog\".split()\n",
    "w.sort(key = len)\n",
    "print(w)"
   ]
  },
  {
   "cell_type": "markdown",
   "metadata": {},
   "source": [
    "# Dictionaries\n",
    "An unordered mapping from unique immutable keys to mutable values"
   ]
  },
  {
   "cell_type": "code",
   "execution_count": 167,
   "metadata": {},
   "outputs": [
    {
     "name": "stdout",
     "output_type": "stream",
     "text": [
      "www.wsu.edu\n",
      "[('Alice', 32), ('John', 33), ('Maria', 20)]\n"
     ]
    },
    {
     "ename": "NameError",
     "evalue": "name 'name_and_ages' is not defined",
     "output_type": "error",
     "traceback": [
      "\u001b[1;31m---------------------------------------------------------------------------\u001b[0m",
      "\u001b[1;31mNameError\u001b[0m                                 Traceback (most recent call last)",
      "\u001b[1;32m<ipython-input-167-94c2e9a5d747>\u001b[0m in \u001b[0;36m<module>\u001b[1;34m()\u001b[0m\n\u001b[0;32m      5\u001b[0m \u001b[0mnames_and_ages\u001b[0m \u001b[1;33m=\u001b[0m \u001b[1;33m[\u001b[0m\u001b[1;33m(\u001b[0m\u001b[1;34m'Alice'\u001b[0m\u001b[1;33m,\u001b[0m \u001b[1;36m32\u001b[0m\u001b[1;33m)\u001b[0m\u001b[1;33m,\u001b[0m \u001b[1;33m(\u001b[0m\u001b[1;34m'John'\u001b[0m\u001b[1;33m,\u001b[0m \u001b[1;36m33\u001b[0m\u001b[1;33m)\u001b[0m\u001b[1;33m,\u001b[0m \u001b[1;33m(\u001b[0m\u001b[1;34m'Maria'\u001b[0m\u001b[1;33m,\u001b[0m \u001b[1;36m20\u001b[0m\u001b[1;33m)\u001b[0m\u001b[1;33m]\u001b[0m\u001b[1;33m\u001b[0m\u001b[0m\n\u001b[0;32m      6\u001b[0m \u001b[0mprint\u001b[0m\u001b[1;33m(\u001b[0m\u001b[0mnames_and_ages\u001b[0m\u001b[1;33m)\u001b[0m\u001b[1;33m\u001b[0m\u001b[0m\n\u001b[1;32m----> 7\u001b[1;33m \u001b[0md\u001b[0m \u001b[1;33m=\u001b[0m \u001b[0mdict\u001b[0m\u001b[1;33m(\u001b[0m\u001b[0mname_and_ages\u001b[0m\u001b[1;33m)\u001b[0m\u001b[1;33m\u001b[0m\u001b[0m\n\u001b[0m\u001b[0;32m      8\u001b[0m \u001b[0mprint\u001b[0m\u001b[1;33m(\u001b[0m\u001b[0md\u001b[0m\u001b[1;33m)\u001b[0m\u001b[1;33m\u001b[0m\u001b[0m\n\u001b[0;32m      9\u001b[0m \u001b[0mprint\u001b[0m\u001b[1;33m(\u001b[0m\u001b[0mtype\u001b[0m\u001b[1;33m(\u001b[0m\u001b[0md\u001b[0m\u001b[1;33m)\u001b[0m\u001b[1;33m)\u001b[0m\u001b[1;33m\u001b[0m\u001b[0m\n",
      "\u001b[1;31mNameError\u001b[0m: name 'name_and_ages' is not defined"
     ]
    }
   ],
   "source": [
    "url = {'google': 'www.google.com', 'twitter': 'www.twitter.com', 'WSU': 'www.wsu.edu'}\n",
    "print(url['WSU'])\n",
    "\n",
    "# The dict() can convert from other types to dictionaires\n",
    "names_and_ages = [('Alice', 32), ('John', 33), ('Maria', 20)]\n",
    "print(names_and_ages)\n",
    "d = dict(name_and_ages)\n",
    "print(d)\n",
    "print(type(d))"
   ]
  },
  {
   "cell_type": "code",
   "execution_count": 164,
   "metadata": {
    "collapsed": true
   },
   "outputs": [],
   "source": [
    "phonetic = dict(a = 'alpha', b = 'bravo', c = 'charlie', d = 'delta', e = 'echo', f = 'foxtrot')"
   ]
  },
  {
   "cell_type": "code",
   "execution_count": 165,
   "metadata": {},
   "outputs": [
    {
     "name": "stdout",
     "output_type": "stream",
     "text": [
      "{'a': 'alpha', 'b': 'bravo', 'c': 'charlie', 'd': 'delta', 'e': 'echo', 'f': 'foxtrot'}\n"
     ]
    }
   ],
   "source": [
    "print(phonetic)"
   ]
  },
  {
   "cell_type": "code",
   "execution_count": 168,
   "metadata": {},
   "outputs": [
    {
     "name": "stdout",
     "output_type": "stream",
     "text": [
      "{'a': 'alpha', 'b': 'bravo', 'c': 'charlie', 'd': 'delta', 'e': 'echo', 'f': 'foxtrot'}\n",
      "{'a': 'alpha', 'b': 'bravo', 'c': 'charlie', 'd': 'delta', 'e': 'echo', 'f': 'foxtrot'}\n"
     ]
    }
   ],
   "source": [
    "pcopy = phonetic.copy() # copy with the copy method\n",
    "print(pcopy)\n",
    "\n",
    "# second method\n",
    "f = dict(phonetic)\n",
    "print(f)"
   ]
  },
  {
   "cell_type": "markdown",
   "metadata": {},
   "source": [
    "### Updating dictionaries with update()"
   ]
  },
  {
   "cell_type": "code",
   "execution_count": 169,
   "metadata": {},
   "outputs": [
    {
     "name": "stdout",
     "output_type": "stream",
     "text": [
      "{'GOOG': 891, 'AAPL': 416, 'IBM': 239}\n",
      "{'GOOG': 894, 'AAPL': 416, 'IBM': 239, 'YHOO': 25}\n"
     ]
    }
   ],
   "source": [
    "stocks = {'GOOG':891, 'AAPL':416, 'IBM':239}\n",
    "print(stocks)\n",
    "stocks.update({'GOOG':894, 'YHOO':25})\n",
    "print(stocks)"
   ]
  },
  {
   "cell_type": "code",
   "execution_count": 171,
   "metadata": {},
   "outputs": [
    {
     "name": "stdout",
     "output_type": "stream",
     "text": [
      "GOOG\n",
      "AAPL\n",
      "IBM\n",
      "YHOO\n",
      "GOOG\n",
      "AAPL\n",
      "IBM\n",
      "YHOO\n"
     ]
    }
   ],
   "source": [
    "# iterate over dict\n",
    "#itterate keys\n",
    "for key in stocks:\n",
    "    print (key)\n",
    "    \n",
    "#itterate values\n",
    "for v in stocks:\n",
    "    print(v)"
   ]
  },
  {
   "cell_type": "code",
   "execution_count": 173,
   "metadata": {},
   "outputs": [
    {
     "name": "stdout",
     "output_type": "stream",
     "text": [
      "GOOG => 894\n",
      "AAPL => 416\n",
      "IBM => 239\n",
      "YHOO => 25\n"
     ]
    }
   ],
   "source": [
    "# use items() for both key and values\n",
    "for k, v in stocks.items():\n",
    "    print (k, \"=>\", v)"
   ]
  },
  {
   "cell_type": "code",
   "execution_count": 174,
   "metadata": {},
   "outputs": [
    {
     "name": "stdout",
     "output_type": "stream",
     "text": [
      "True\n",
      "True\n"
     ]
    }
   ],
   "source": [
    "# test for membership for dictionary keys with in and not in\n",
    "print('GOOG' in stocks)\n",
    "print('WIN' not in stocks)\n"
   ]
  },
  {
   "cell_type": "markdown",
   "metadata": {},
   "source": [
    "#### Removing items from a dict with del()\n"
   ]
  },
  {
   "cell_type": "code",
   "execution_count": 175,
   "metadata": {},
   "outputs": [
    {
     "name": "stdout",
     "output_type": "stream",
     "text": [
      "{'GOOG': 894, 'AAPL': 416, 'IBM': 239, 'YHOO': 25}\n",
      " \n",
      "{'GOOG': 894, 'AAPL': 416, 'IBM': 239}\n"
     ]
    }
   ],
   "source": [
    "print(stocks)\n",
    "del(stocks['YHOO'])\n",
    "print(' ')\n",
    "print(stocks)"
   ]
  },
  {
   "cell_type": "markdown",
   "metadata": {},
   "source": [
    "#### Mutability of dictionaries\n",
    "We cannot modify the key, but we can modify the values"
   ]
  },
  {
   "cell_type": "code",
   "execution_count": 180,
   "metadata": {},
   "outputs": [
    {
     "name": "stdout",
     "output_type": "stream",
     "text": [
      "{'H': [1, 2, 3], 'He': [3, 4], 'Li': [6, 7], 'Be': [7, 8, 10], 'B': [10, 11], 'C': [11, 12, 13, 14]}\n"
     ]
    }
   ],
   "source": [
    "isotopes = {'H':[1, 2, 3], \n",
    "         'He':[3, 4], \n",
    "         'Li': [6, 7], \n",
    "         'Be': [7, 8, 10],\n",
    "         'B': [10, 11], \n",
    "         'C': [11, 12, 13, 14]}\n",
    "print(isotopes)"
   ]
  },
  {
   "cell_type": "code",
   "execution_count": 181,
   "metadata": {},
   "outputs": [
    {
     "name": "stdout",
     "output_type": "stream",
     "text": [
      "{'H': [1, 2, 3, 4, 5, 6, 7], 'He': [3, 4], 'Li': [6, 7], 'Be': [7, 8, 10], 'B': [10, 11], 'C': [11, 12, 13, 14]}\n"
     ]
    }
   ],
   "source": [
    "isotopes['H']+=[4, 5, 6, 7]\n",
    "print(isotopes)"
   ]
  },
  {
   "cell_type": "code",
   "execution_count": 182,
   "metadata": {
    "collapsed": true
   },
   "outputs": [],
   "source": [
    "# add members\n",
    "isotopes['N'] = [13, 14, 15]"
   ]
  },
  {
   "cell_type": "code",
   "execution_count": 183,
   "metadata": {},
   "outputs": [
    {
     "name": "stdout",
     "output_type": "stream",
     "text": [
      "{'H': [1, 2, 3, 4, 5, 6, 7], 'He': [3, 4], 'Li': [6, 7], 'Be': [7, 8, 10], 'B': [10, 11], 'C': [11, 12, 13, 14], 'N': [13, 14, 15]}\n"
     ]
    }
   ],
   "source": [
    "print(isotopes)"
   ]
  },
  {
   "cell_type": "markdown",
   "metadata": {},
   "source": [
    "To pring in a more readable way, use **pprint** or **Pretty printing**\n",
    "\n",
    "Note: you need more than 80 char to make any differenece"
   ]
  },
  {
   "cell_type": "code",
   "execution_count": 184,
   "metadata": {
    "collapsed": true
   },
   "outputs": [],
   "source": [
    "from pprint import pprint as pp"
   ]
  },
  {
   "cell_type": "code",
   "execution_count": 185,
   "metadata": {},
   "outputs": [
    {
     "name": "stdout",
     "output_type": "stream",
     "text": [
      "{'B': [10, 11],\n",
      " 'Be': [7, 8, 10],\n",
      " 'C': [11, 12, 13, 14],\n",
      " 'H': [1, 2, 3, 4, 5, 6, 7],\n",
      " 'He': [3, 4],\n",
      " 'Li': [6, 7],\n",
      " 'N': [13, 14, 15]}\n"
     ]
    }
   ],
   "source": [
    "pp(isotopes)"
   ]
  },
  {
   "cell_type": "markdown",
   "metadata": {},
   "source": [
    "See example swaplist.py\n"
   ]
  },
  {
   "cell_type": "markdown",
   "metadata": {},
   "source": [
    "# Sets\n",
    "* An unordered collection of unique immutable objects\n",
    "* Use Curly { } to create it\n",
    "* Have the set() constructor\n",
    "* Similar to dictionaries, but each item is a single object (no key)\n",
    "\n"
   ]
  },
  {
   "cell_type": "code",
   "execution_count": 186,
   "metadata": {},
   "outputs": [
    {
     "name": "stdout",
     "output_type": "stream",
     "text": [
      "{8128, 6, 496, 33550289, 28}\n",
      "<class 'set'>\n"
     ]
    }
   ],
   "source": [
    "p = {6, 28, 496, 8128, 33550289}\n",
    "print(p)\n",
    "print(type (p))"
   ]
  },
  {
   "cell_type": "code",
   "execution_count": 187,
   "metadata": {},
   "outputs": [
    {
     "name": "stdout",
     "output_type": "stream",
     "text": [
      "<class 'set'>\n"
     ]
    }
   ],
   "source": [
    "# empty set\n",
    "e = set()\n",
    "print (type(e))\n",
    "\n"
   ]
  },
  {
   "cell_type": "markdown",
   "metadata": {},
   "source": [
    "### Duplicates are removed"
   ]
  },
  {
   "cell_type": "code",
   "execution_count": 188,
   "metadata": {},
   "outputs": [
    {
     "name": "stdout",
     "output_type": "stream",
     "text": [
      "[1, 4, 2, 6, 77, 2, 1, 99]\n",
      "{1, 2, 99, 4, 6, 77}\n"
     ]
    }
   ],
   "source": [
    "t = [1, 4, 2, 6, 77, 2, 1, 99]\n",
    "print (t)\n",
    "s = set(t)\n",
    "print(s)"
   ]
  },
  {
   "cell_type": "markdown",
   "metadata": {},
   "source": [
    "### Iterate over set\n"
   ]
  },
  {
   "cell_type": "code",
   "execution_count": 190,
   "metadata": {},
   "outputs": [
    {
     "name": "stdout",
     "output_type": "stream",
     "text": [
      "1\n",
      "4\n",
      "2\n",
      "6\n",
      "77\n",
      "2\n",
      "1\n",
      "99\n",
      " \n",
      "1\n",
      "2\n",
      "99\n",
      "4\n",
      "6\n",
      "77\n"
     ]
    }
   ],
   "source": [
    "for x in t:\n",
    "    print (x)\n",
    "\n",
    "print (\" \")\n",
    "\n",
    "for x in s:\n",
    " print(x)"
   ]
  },
  {
   "cell_type": "markdown",
   "metadata": {},
   "source": [
    "### membership testing"
   ]
  },
  {
   "cell_type": "code",
   "execution_count": 191,
   "metadata": {},
   "outputs": [
    {
     "name": "stdout",
     "output_type": "stream",
     "text": [
      "False\n"
     ]
    }
   ],
   "source": [
    "q = {2,9, 6, 4}\n",
    "print (3 in q)\n",
    "\n"
   ]
  },
  {
   "cell_type": "markdown",
   "metadata": {},
   "source": [
    "### Adding elements to sets. Use add() or Update()"
   ]
  },
  {
   "cell_type": "code",
   "execution_count": 194,
   "metadata": {},
   "outputs": [
    {
     "name": "stdout",
     "output_type": "stream",
     "text": [
      "{32, 55}\n",
      "{32, 23, 55}\n",
      "{32, 33, 41, 21, 55, 23}\n"
     ]
    }
   ],
   "source": [
    "k = {32, 55}\n",
    "print(k)\n",
    "k.add(23)\n",
    "print(k)\n",
    "\n",
    "k.update([33, 21, 41])\n",
    "print(k)"
   ]
  },
  {
   "cell_type": "markdown",
   "metadata": {},
   "source": [
    "### Removing elements use remove() method\n"
   ]
  },
  {
   "cell_type": "code",
   "execution_count": 195,
   "metadata": {},
   "outputs": [
    {
     "name": "stdout",
     "output_type": "stream",
     "text": [
      "{32, 33, 41, 21, 55, 23}\n",
      "{32, 33, 41, 21, 23}\n"
     ]
    }
   ],
   "source": [
    "print(k)\n",
    "k.remove(55)\n",
    "print(k)\n",
    "# thows error if not present"
   ]
  },
  {
   "cell_type": "code",
   "execution_count": 196,
   "metadata": {},
   "outputs": [
    {
     "name": "stdout",
     "output_type": "stream",
     "text": [
      "{32, 33, 41, 21, 23}\n",
      "{32, 33, 41, 21, 23}\n"
     ]
    }
   ],
   "source": [
    "#use discard to avoid error if the element does not exist\n",
    "print(k)\n",
    "k.discard(55)\n",
    "print(k)"
   ]
  },
  {
   "cell_type": "markdown",
   "metadata": {},
   "source": [
    "### To copy use copy() or set() constructors"
   ]
  },
  {
   "cell_type": "code",
   "execution_count": 197,
   "metadata": {},
   "outputs": [
    {
     "name": "stdout",
     "output_type": "stream",
     "text": [
      "{32, 33, 21, 23, 41}\n",
      "False\n"
     ]
    }
   ],
   "source": [
    "j = k.copy()\n",
    "print(j)\n",
    "print(j is k)"
   ]
  },
  {
   "cell_type": "code",
   "execution_count": 198,
   "metadata": {},
   "outputs": [
    {
     "name": "stdout",
     "output_type": "stream",
     "text": [
      "{32, 33, 21, 23, 41}\n",
      "False\n"
     ]
    }
   ],
   "source": [
    "m = set(k)\n",
    "print(m)\n",
    "print(m is k)"
   ]
  },
  {
   "cell_type": "markdown",
   "metadata": {},
   "source": [
    "## Set Algebra operations\n",
    "It supports the following operations:\n",
    "* union\n",
    "* intersection\n",
    "* difference\n",
    "* symetric_difference\n",
    "* Subset \n",
    "* and more\n",
    "\n",
    "see testSets.py"
   ]
  },
  {
   "cell_type": "markdown",
   "metadata": {},
   "source": [
    "## Colection Protocols\n",
    "\n",
    "Protocol  |   Implementing Colection\n",
    "----------|   ---------------------\n",
    "Container (in, not in) |   str, list, dict, range, tuple, set, bytes\n",
    "Sized   (len)   |   str, list, dict, range, tuple, set, bytes\n",
    "Iterable (for) |   str, list, dict, range, tuple, set, bytes\n",
    "Sequence  |   str, list, dict, range, tuple, set, bytes\n",
    "Mutable Sequence |  list\n",
    "Mutable Set | set\n",
    "Mutable Mapping | dict"
   ]
  },
  {
   "cell_type": "markdown",
   "metadata": {},
   "source": [
    "# Handling Exceptions\n",
    "\n",
    "Is a mechanism for stopping normal program flow and continuaingat some surround context or block of code\n",
    "\n",
    "Key concepts: \n",
    "* Rais an exception to intrerupt program flow\n",
    "* Handle and exception to resume control \n",
    "* Unhandled exception will terminate a program\n",
    "* Exception object contain information about the exeption event.\n",
    "\n",
    "Use **try** with **excpet** block to test code\n",
    "\n",
    "### Re-Raising exceptions\n",
    "\n",
    "If you want to capture all excpetions use:\n",
    "except exception\n",
    "\n",
    "\n",
    "See\n",
    "* exceptions.py\n",
    "* roots.py\n",
    "\n",
    "### Note that exception handing is expensive on performance, consider if this is what you really want, or if you'd rather it crash\n",
    "\n"
   ]
  },
  {
   "cell_type": "markdown",
   "metadata": {},
   "source": [
    "## Exception, APIs, and Protocols\n",
    "Exceptions are par tof a function's API and more broadly they are part of certain protocols\n",
    "* **IndexError** raised when an integer is out of range.\n",
    "* **ValueError** raised when the object is of the right type, but contains an inappropriate value.\n",
    "* **KeyError** raised when a look-up in a mapping fails\n",
    "* search python documentation section 5.2 for a list of errors \"concrete-exceptions\""
   ]
  },
  {
   "cell_type": "markdown",
   "metadata": {},
   "source": [
    "# Iterables"
   ]
  }
 ],
 "metadata": {
  "kernelspec": {
   "display_name": "Python 3",
   "language": "python",
   "name": "python3"
  },
  "language_info": {
   "codemirror_mode": {
    "name": "ipython",
    "version": 3
   },
   "file_extension": ".py",
   "mimetype": "text/x-python",
   "name": "python",
   "nbconvert_exporter": "python",
   "pygments_lexer": "ipython3",
   "version": "3.6.3"
  }
 },
 "nbformat": 4,
 "nbformat_minor": 2
}
