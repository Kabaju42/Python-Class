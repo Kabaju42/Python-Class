{
 "cells": [
  {
   "cell_type": "markdown",
   "metadata": {},
   "source": [
    "# Iterables\n",
    "Today we will discuss\n",
    "* Comprehesnions\n",
    "* Iterables of objects and iterators\n",
    "* Lazy evaluation with Generators\n",
    "* other tools"
   ]
  },
  {
   "cell_type": "markdown",
   "metadata": {},
   "source": [
    "## List Comprehension\n",
    "\n",
    "syntax:**[expr(item) for item in iterable]**\n",
    "\n",
    "* Readable\n",
    "* Expressive\n",
    "* Effective"
   ]
  },
  {
   "cell_type": "code",
   "execution_count": 1,
   "metadata": {},
   "outputs": [
    {
     "name": "stdout",
     "output_type": "stream",
     "text": [
      "['Today', 'I', 'am', 'very', 'happy', 'to', 'learn', 'comprehensions']\n"
     ]
    }
   ],
   "source": [
    "words = 'Today I am very happy to learn comprehensions'.split()\n",
    "print(words)"
   ]
  },
  {
   "cell_type": "code",
   "execution_count": 6,
   "metadata": {},
   "outputs": [
    {
     "name": "stdout",
     "output_type": "stream",
     "text": [
      "[5, 1, 2, 4, 5, 2, 5, 14]\n"
     ]
    }
   ],
   "source": [
    "# Traditional way:\n",
    "l = []\n",
    "for item in words: \n",
    "    l.append(len(item))\n",
    "print(l)"
   ]
  },
  {
   "cell_type": "code",
   "execution_count": 3,
   "metadata": {},
   "outputs": [
    {
     "data": {
      "text/plain": [
       "[5, 1, 2, 4, 5, 2, 5, 14]"
      ]
     },
     "execution_count": 3,
     "metadata": {},
     "output_type": "execute_result"
    }
   ],
   "source": [
    "# Python way with comprehension\n",
    "[len(word) for word in words]"
   ]
  },
  {
   "cell_type": "markdown",
   "metadata": {},
   "source": [
    "#### Task: Find the number of digitsof the first 20 factorial using range\n"
   ]
  },
  {
   "cell_type": "code",
   "execution_count": 8,
   "metadata": {},
   "outputs": [
    {
     "name": "stdout",
     "output_type": "stream",
     "text": [
      "[1, 1, 1, 1, 2, 3, 3, 4, 5, 6, 7, 8, 9, 10, 11, 13, 14, 15, 16, 18]\n"
     ]
    }
   ],
   "source": [
    "from math import factorial\n",
    "n = list(range(20))\n",
    "fac = [factorial(i) for i in n]\n",
    "fac_s = [str(i) for i in fac]\n",
    "l = [len(i) for i in fac_s]\n",
    "print(l)\n"
   ]
  },
  {
   "cell_type": "code",
   "execution_count": 10,
   "metadata": {},
   "outputs": [
    {
     "name": "stdout",
     "output_type": "stream",
     "text": [
      "[1, 1, 1, 1, 2, 3, 3, 4, 5, 6, 7, 8, 9, 10, 11, 13, 14, 15, 16, 18]\n"
     ]
    }
   ],
   "source": [
    "#combine them\n",
    "f = [len(str(factorial(x))) for x in range(20)]\n",
    "print(f)"
   ]
  },
  {
   "cell_type": "markdown",
   "metadata": {},
   "source": [
    "## Set Comprehensions\n",
    "syntax: **{expr(item) for item in iterable}**"
   ]
  },
  {
   "cell_type": "code",
   "execution_count": 11,
   "metadata": {},
   "outputs": [
    {
     "name": "stdout",
     "output_type": "stream",
     "text": [
      "{1, 2, 3, 4, 5, 6, 7, 8, 9, 10, 11, 13, 14, 15, 16, 18}\n",
      "<class 'set'>\n"
     ]
    }
   ],
   "source": [
    "# set comprehension\n",
    "f = {len(str(factorial(x))) for x in range(20)}\n",
    "print(f)\n",
    "print(type(f))"
   ]
  },
  {
   "cell_type": "code",
   "execution_count": 12,
   "metadata": {},
   "outputs": [
    {
     "ename": "SyntaxError",
     "evalue": "invalid syntax (<ipython-input-12-244ebca048f4>, line 3)",
     "output_type": "error",
     "traceback": [
      "\u001b[1;36m  File \u001b[1;32m\"<ipython-input-12-244ebca048f4>\"\u001b[1;36m, line \u001b[1;32m3\u001b[0m\n\u001b[1;33m    syntax: **{key_expr:val_expr for item in iterable}**\u001b[0m\n\u001b[1;37m             ^\u001b[0m\n\u001b[1;31mSyntaxError\u001b[0m\u001b[1;31m:\u001b[0m invalid syntax\n"
     ]
    }
   ],
   "source": [
    "## Dictionary comprehension\n",
    "\n",
    "syntax: **{key_expr:val_expr for item in iterable}**"
   ]
  },
  {
   "cell_type": "code",
   "execution_count": 13,
   "metadata": {},
   "outputs": [
    {
     "name": "stdout",
     "output_type": "stream",
     "text": [
      "{'AAPL': 416, 'BIT': 12345, 'GOOG': 891, 'HBO': 239, 'IBM': 239, 'YHOO': 12}\n"
     ]
    }
   ],
   "source": [
    "from pprint import pprint as pp\n",
    "stocks = {'GOOG':891, 'AAPL':416, 'IBM':239, 'HBO':239, 'YHOO':12, 'BIT':12345}\n",
    "pp(stocks)\n",
    "\n"
   ]
  },
  {
   "cell_type": "code",
   "execution_count": 14,
   "metadata": {},
   "outputs": [
    {
     "name": "stdout",
     "output_type": "stream",
     "text": [
      "{891: 'GOOG', 416: 'AAPL', 239: 'HBO', 12: 'YHOO', 12345: 'BIT'}\n"
     ]
    }
   ],
   "source": [
    "#Dictionary comprehension\n",
    "d = {v:l for l, v in stocks.items()}\n",
    "print(d)"
   ]
  },
  {
   "cell_type": "code",
   "execution_count": 15,
   "metadata": {},
   "outputs": [
    {
     "name": "stdout",
     "output_type": "stream",
     "text": [
      "['Hi', 'Hello', 'Foxtrot', 'Hotel', 'Adios']\n",
      "{'H': 'Hotel', 'F': 'Foxtrot', 'A': 'Adios'}\n"
     ]
    }
   ],
   "source": [
    "words = 'Hi Hello Foxtrot Hotel Adios'.split()\n",
    "print(words)\n",
    "\n",
    "d = {x[0]:x for x in words}\n",
    "print(d)"
   ]
  },
  {
   "cell_type": "code",
   "execution_count": 16,
   "metadata": {},
   "outputs": [
    {
     "name": "stdout",
     "output_type": "stream",
     "text": [
      "{'Hi': 'Hi', 'He': 'Hello', 'Fo': 'Foxtrot', 'Ho': 'Hotel', 'Ad': 'Adios'}\n"
     ]
    }
   ],
   "source": [
    "d = {x[:2]:x for x in words}\n",
    "print(d)"
   ]
  },
  {
   "cell_type": "markdown",
   "metadata": {},
   "source": [
    "## Filter Predicates\n",
    "All three types of comprehension support **optional filtering clause** of a list of comprehension which allows you to choose which items of source are evaluated by the expression on the left.\n",
    "\n",
    "see comprehensions.py"
   ]
  },
  {
   "cell_type": "markdown",
   "metadata": {},
   "source": [
    "# Iterator Protocols\n",
    "Comprehensions and for loops are the most frequently used language featrures for performing iterations\n",
    "\n",
    "We have **iterable** objects and the **iterator** object. Both of which reflect python protocol\n",
    "\n",
    "The **iterable** protocol allows you to pass an iterable object, usually a collection or stream of objects to the **itter()** function to get an iterator for the iterable object. \n",
    "\n",
    "The **iterator**object supports the iterator protocol,which requries that we can pass the iterator object to the built-in **next()** to fetch the next value."
   ]
  },
  {
   "cell_type": "code",
   "execution_count": 17,
   "metadata": {},
   "outputs": [
    {
     "name": "stdout",
     "output_type": "stream",
     "text": [
      "['Spring', 'Summer', 'Fall', 'Winter']\n",
      "<class 'list'>\n",
      "<list_iterator object at 0x00000194E0F8A5C0>\n",
      "<class 'list_iterator'>\n"
     ]
    }
   ],
   "source": [
    "iterable = ['Spring', 'Summer', 'Fall', 'Winter']\n",
    "print(iterable)\n",
    "print(type(iterable))\n",
    "iterator = iter(iterable)\n",
    "print(iterator)\n",
    "print(type(iterator))"
   ]
  },
  {
   "cell_type": "code",
   "execution_count": 18,
   "metadata": {},
   "outputs": [
    {
     "name": "stdout",
     "output_type": "stream",
     "text": [
      "Spring\n",
      "Summer\n",
      "Fall\n",
      "Winter\n"
     ]
    }
   ],
   "source": [
    "print(next (iterator))\n",
    "print(next (iterator))\n",
    "print(next (iterator))\n",
    "print(next (iterator))"
   ]
  },
  {
   "cell_type": "code",
   "execution_count": 19,
   "metadata": {},
   "outputs": [
    {
     "ename": "StopIteration",
     "evalue": "",
     "output_type": "error",
     "traceback": [
      "\u001b[1;31m---------------------------------------------------------------------------\u001b[0m",
      "\u001b[1;31mStopIteration\u001b[0m                             Traceback (most recent call last)",
      "\u001b[1;32m<ipython-input-19-f5da41016d09>\u001b[0m in \u001b[0;36m<module>\u001b[1;34m()\u001b[0m\n\u001b[1;32m----> 1\u001b[1;33m \u001b[0mprint\u001b[0m\u001b[1;33m(\u001b[0m\u001b[0mnext\u001b[0m \u001b[1;33m(\u001b[0m\u001b[0miterator\u001b[0m\u001b[1;33m)\u001b[0m\u001b[1;33m)\u001b[0m\u001b[1;33m\u001b[0m\u001b[0m\n\u001b[0m",
      "\u001b[1;31mStopIteration\u001b[0m: "
     ]
    }
   ],
   "source": [
    "print(next (iterator))"
   ]
  },
  {
   "cell_type": "markdown",
   "metadata": {},
   "source": [
    "## Generators\n",
    "One of the most powerful and elegant features of Python\n",
    "\n",
    "* Describe iterables series with code and functions\n",
    "* Are **lazy** evaluated: The next value in the sequence is computed on demand\n",
    "* Can model infinite sequences: such as data streams with no definite end\n",
    "* Are composed into sophisiticated pipeline for natureal sream process.\n",
    "\n",
    "Generators are defined by any python function which uses the **yield** keyword at least once. And just like any other function it has an implicit return at the end of the definition"
   ]
  },
  {
   "cell_type": "code",
   "execution_count": 21,
   "metadata": {},
   "outputs": [
    {
     "name": "stdout",
     "output_type": "stream",
     "text": [
      "<generator object gen123 at 0x00000194E10104C0>\n",
      "<class 'generator'>\n"
     ]
    }
   ],
   "source": [
    "def gen123():\n",
    "    yield 1\n",
    "    yield 2\n",
    "    yield 3\n",
    "    \n",
    "g = gen123()\n",
    "print(g) \n",
    "print(type(g))"
   ]
  },
  {
   "cell_type": "code",
   "execution_count": 22,
   "metadata": {},
   "outputs": [
    {
     "name": "stdout",
     "output_type": "stream",
     "text": [
      "1\n",
      "2\n",
      "3\n"
     ]
    },
    {
     "ename": "StopIteration",
     "evalue": "",
     "output_type": "error",
     "traceback": [
      "\u001b[1;31m---------------------------------------------------------------------------\u001b[0m",
      "\u001b[1;31mStopIteration\u001b[0m                             Traceback (most recent call last)",
      "\u001b[1;32m<ipython-input-22-7a07053563b7>\u001b[0m in \u001b[0;36m<module>\u001b[1;34m()\u001b[0m\n\u001b[0;32m      2\u001b[0m \u001b[0mprint\u001b[0m\u001b[1;33m(\u001b[0m\u001b[0mnext\u001b[0m\u001b[1;33m(\u001b[0m\u001b[0mg\u001b[0m\u001b[1;33m)\u001b[0m\u001b[1;33m)\u001b[0m\u001b[1;33m\u001b[0m\u001b[0m\n\u001b[0;32m      3\u001b[0m \u001b[0mprint\u001b[0m\u001b[1;33m(\u001b[0m\u001b[0mnext\u001b[0m\u001b[1;33m(\u001b[0m\u001b[0mg\u001b[0m\u001b[1;33m)\u001b[0m\u001b[1;33m)\u001b[0m\u001b[1;33m\u001b[0m\u001b[0m\n\u001b[1;32m----> 4\u001b[1;33m \u001b[0mprint\u001b[0m\u001b[1;33m(\u001b[0m\u001b[0mnext\u001b[0m\u001b[1;33m(\u001b[0m\u001b[0mg\u001b[0m\u001b[1;33m)\u001b[0m\u001b[1;33m)\u001b[0m\u001b[1;33m\u001b[0m\u001b[0m\n\u001b[0m",
      "\u001b[1;31mStopIteration\u001b[0m: "
     ]
    }
   ],
   "source": [
    "print(next(g))\n",
    "print(next(g))\n",
    "print(next(g))\n",
    "print(next(g))"
   ]
  },
  {
   "cell_type": "code",
   "execution_count": 24,
   "metadata": {},
   "outputs": [
    {
     "name": "stdout",
     "output_type": "stream",
     "text": [
      "1\n",
      "2\n",
      "3\n",
      "1\n"
     ]
    }
   ],
   "source": [
    "def geninf():\n",
    "    while(True):\n",
    "        yield 1\n",
    "        yield 2\n",
    "        yield 3\n",
    "    \n",
    "g = geninf()\n",
    "print(next(g))\n",
    "print(next(g))\n",
    "print(next(g))\n",
    "print(next(g))"
   ]
  },
  {
   "cell_type": "code",
   "execution_count": 26,
   "metadata": {},
   "outputs": [
    {
     "name": "stdout",
     "output_type": "stream",
     "text": [
      "1\n",
      "2\n",
      "3\n"
     ]
    }
   ],
   "source": [
    "for v in gen123():\n",
    "    print(v)\n",
    "    \n"
   ]
  },
  {
   "cell_type": "code",
   "execution_count": 27,
   "metadata": {},
   "outputs": [
    {
     "name": "stdout",
     "output_type": "stream",
     "text": [
      "<generator object gen123 at 0x00000194E0F30E60>\n",
      "<generator object gen123 at 0x00000194E0F30E60>\n",
      "<generator object gen123 at 0x00000194E10105C8>\n"
     ]
    }
   ],
   "source": [
    "# be aware that each call to the iterator function returns a new generator object\n",
    "h = gen123()\n",
    "i = gen123()\n",
    "print(h)\n",
    "print(i)"
   ]
  },
  {
   "cell_type": "code",
   "execution_count": 28,
   "metadata": {},
   "outputs": [
    {
     "name": "stdout",
     "output_type": "stream",
     "text": [
      "1\n",
      "2\n",
      "1\n"
     ]
    }
   ],
   "source": [
    "print(next(h))\n",
    "print(next(h))\n",
    "print(next(i))"
   ]
  },
  {
   "cell_type": "markdown",
   "metadata": {},
   "source": [
    "#### makes a good alternative to recursion"
   ]
  },
  {
   "cell_type": "markdown",
   "metadata": {},
   "source": [
    "#### Look at gen.py for more examples with generators and mixing generators"
   ]
  },
  {
   "cell_type": "markdown",
   "metadata": {},
   "source": [
    "## Generators are a cross between compehenshons and a generator function. They use a similar syntax, but they result in the creation of a generator object.\n",
    "\n",
    "Syntax **(expr(item) for item in iterable)**\n",
    "\n"
   ]
  },
  {
   "cell_type": "code",
   "execution_count": 32,
   "metadata": {},
   "outputs": [
    {
     "name": "stdout",
     "output_type": "stream",
     "text": [
      "<generator object <genexpr> at 0x00000194E1010E08>\n",
      "<class 'generator'>\n"
     ]
    }
   ],
   "source": [
    "# Task: List the first 1 mllion square numbers\n",
    "m_sq = (x*x for x in range(1, 101))\n",
    "print(m_sq)\n",
    "print(type(m_sq))"
   ]
  },
  {
   "cell_type": "code",
   "execution_count": 33,
   "metadata": {},
   "outputs": [
    {
     "data": {
      "text/plain": [
       "[1,\n",
       " 4,\n",
       " 9,\n",
       " 16,\n",
       " 25,\n",
       " 36,\n",
       " 49,\n",
       " 64,\n",
       " 81,\n",
       " 100,\n",
       " 121,\n",
       " 144,\n",
       " 169,\n",
       " 196,\n",
       " 225,\n",
       " 256,\n",
       " 289,\n",
       " 324,\n",
       " 361,\n",
       " 400,\n",
       " 441,\n",
       " 484,\n",
       " 529,\n",
       " 576,\n",
       " 625,\n",
       " 676,\n",
       " 729,\n",
       " 784,\n",
       " 841,\n",
       " 900,\n",
       " 961,\n",
       " 1024,\n",
       " 1089,\n",
       " 1156,\n",
       " 1225,\n",
       " 1296,\n",
       " 1369,\n",
       " 1444,\n",
       " 1521,\n",
       " 1600,\n",
       " 1681,\n",
       " 1764,\n",
       " 1849,\n",
       " 1936,\n",
       " 2025,\n",
       " 2116,\n",
       " 2209,\n",
       " 2304,\n",
       " 2401,\n",
       " 2500,\n",
       " 2601,\n",
       " 2704,\n",
       " 2809,\n",
       " 2916,\n",
       " 3025,\n",
       " 3136,\n",
       " 3249,\n",
       " 3364,\n",
       " 3481,\n",
       " 3600,\n",
       " 3721,\n",
       " 3844,\n",
       " 3969,\n",
       " 4096,\n",
       " 4225,\n",
       " 4356,\n",
       " 4489,\n",
       " 4624,\n",
       " 4761,\n",
       " 4900,\n",
       " 5041,\n",
       " 5184,\n",
       " 5329,\n",
       " 5476,\n",
       " 5625,\n",
       " 5776,\n",
       " 5929,\n",
       " 6084,\n",
       " 6241,\n",
       " 6400,\n",
       " 6561,\n",
       " 6724,\n",
       " 6889,\n",
       " 7056,\n",
       " 7225,\n",
       " 7396,\n",
       " 7569,\n",
       " 7744,\n",
       " 7921,\n",
       " 8100,\n",
       " 8281,\n",
       " 8464,\n",
       " 8649,\n",
       " 8836,\n",
       " 9025,\n",
       " 9216,\n",
       " 9409,\n",
       " 9604,\n",
       " 9801,\n",
       " 10000]"
      ]
     },
     "execution_count": 33,
     "metadata": {},
     "output_type": "execute_result"
    }
   ],
   "source": [
    "list(m_sq)"
   ]
  },
  {
   "cell_type": "code",
   "execution_count": 34,
   "metadata": {},
   "outputs": [
    {
     "data": {
      "text/plain": [
       "333338333350000"
      ]
     },
     "execution_count": 34,
     "metadata": {},
     "output_type": "execute_result"
    }
   ],
   "source": [
    "# Get the sum of the first 1 millions square numbers\n",
    "sum(x*x for x in range(1, 100001))"
   ]
  },
  {
   "cell_type": "markdown",
   "metadata": {},
   "source": [
    "## Other tools: itertool module\n",
    "* count()\n",
    "* islice()"
   ]
  },
  {
   "cell_type": "markdown",
   "metadata": {},
   "source": [
    "## Other built-in functions\n",
    "* any\n",
    "* all"
   ]
  },
  {
   "cell_type": "code",
   "execution_count": 37,
   "metadata": {},
   "outputs": [
    {
     "data": {
      "text/plain": [
       "True"
      ]
     },
     "execution_count": 37,
     "metadata": {},
     "output_type": "execute_result"
    }
   ],
   "source": [
    "any([False, False, True])"
   ]
  },
  {
   "cell_type": "code",
   "execution_count": 38,
   "metadata": {},
   "outputs": [
    {
     "data": {
      "text/plain": [
       "False"
      ]
     },
     "execution_count": 38,
     "metadata": {},
     "output_type": "execute_result"
    }
   ],
   "source": [
    "all([False, False, True])"
   ]
  },
  {
   "cell_type": "code",
   "execution_count": 39,
   "metadata": {},
   "outputs": [
    {
     "data": {
      "text/plain": [
       "True"
      ]
     },
     "execution_count": 39,
     "metadata": {},
     "output_type": "execute_result"
    }
   ],
   "source": [
    "# Test all names in an iterable are with Upper case Letter\n",
    "list = ['London', 'Sydney', 'Ogden']\n",
    "all(name == name.title() for name in list)"
   ]
  },
  {
   "cell_type": "markdown",
   "metadata": {},
   "source": [
    "## zip\n",
    "\n",
    "Synchronize iterations over two or more iterables"
   ]
  },
  {
   "cell_type": "code",
   "execution_count": 40,
   "metadata": {},
   "outputs": [
    {
     "name": "stdout",
     "output_type": "stream",
     "text": [
      "(12, 13)\n",
      "(14, 14)\n",
      "(15, 14)\n",
      "(15, 14)\n",
      "(17, 16)\n",
      "(21, 20)\n",
      "(22, 21)\n",
      "(22, 22)\n",
      "(23, 22)\n",
      "(22, 21)\n",
      "(20, 19)\n",
      "(18, 17)\n"
     ]
    }
   ],
   "source": [
    "sunday = [12, 14, 15, 15, 17, 21, 22, 22, 23, 22, 20, 18]\n",
    "monday = [13, 14, 14, 14, 16, 20, 21, 22, 22, 21, 19, 17]\n",
    "\n",
    "for item in zip(sunday, monday):\n",
    "    print(item)"
   ]
  },
  {
   "cell_type": "code",
   "execution_count": 41,
   "metadata": {},
   "outputs": [
    {
     "name": "stdout",
     "output_type": "stream",
     "text": [
      "average =  12.5\n",
      "average =  14.0\n",
      "average =  14.5\n",
      "average =  14.5\n",
      "average =  16.5\n",
      "average =  20.5\n",
      "average =  21.5\n",
      "average =  22.0\n",
      "average =  22.5\n",
      "average =  21.5\n",
      "average =  19.5\n",
      "average =  17.5\n"
     ]
    }
   ],
   "source": [
    "for sun, mon in zip (sunday, monday):\n",
    "    print(\"average = \", (sun + mon)/2)"
   ]
  },
  {
   "cell_type": "code",
   "execution_count": 47,
   "metadata": {},
   "outputs": [
    {
     "name": "stdout",
     "output_type": "stream",
     "text": [
      "Average, Min, Max\n",
      "11 ,  8 ,  13\n",
      "12 ,  8 ,  14\n",
      "13 ,  10 ,  15\n",
      "13 ,  10 ,  15\n",
      "14.666666666666666 ,  11 ,  17\n",
      "17.666666666666668 ,  12 ,  21\n",
      "18 ,  11 ,  22\n",
      "18 ,  10 ,  22\n",
      "18 ,  9 ,  23\n",
      "17 ,  8 ,  22\n",
      "15 ,  6 ,  20\n",
      "13.333333333333334 ,  5 ,  18\n"
     ]
    }
   ],
   "source": [
    " from statistics import mean\n",
    "\n",
    "# add a third iterator\n",
    "sunday = [12, 14, 15, 15, 17, 21, 22, 22, 23, 22, 20, 18] #same as before\n",
    "monday = [13, 14, 14, 14, 16, 20, 21, 22, 22, 21, 19, 17] #same as before\n",
    "tuesday =[8,  8,  10, 10, 11, 12, 11, 10,  9,  8,  6,  5]\n",
    "\n",
    "print(\"Average, Min, Max\")\n",
    "for days in zip(sunday, monday, tuesday):\n",
    "    print (mean(days), \", \", min(days), \", \", max(days))\n"
   ]
  },
  {
   "cell_type": "code",
   "execution_count": 48,
   "metadata": {},
   "outputs": [
    {
     "data": {
      "text/plain": [
       "True"
      ]
     },
     "execution_count": 48,
     "metadata": {},
     "output_type": "execute_result"
    }
   ],
   "source": [
    "from itertools import chain\n",
    "temp = chain(sunday, monday, tuesday)\n",
    "all(t > 0 for t in temp)"
   ]
  },
  {
   "cell_type": "code",
   "execution_count": 49,
   "metadata": {},
   "outputs": [
    {
     "name": "stdout",
     "output_type": "stream",
     "text": [
      "<class 'int'>\n",
      "<class 'str'>\n"
     ]
    }
   ],
   "source": [
    "print(type(5))\n",
    "print(type('python'))"
   ]
  },
  {
   "cell_type": "markdown",
   "metadata": {},
   "source": [
    "## Classes/Objects\n",
    "see airline.py\n",
    "\n",
    "* Classes use the keyword **class** to declare a new object\n",
    "* By convention the first argument to all instance method is **self** but it is not a keyword\n",
    "\n",
    "To initialize your object, you must call the **double underscore init delimited** which is used by the Python machine to initialize your object (**\\_\\_init\\_\\_**)\n",
    "\n",
    "There is no public/private/protected. Everything is public.\n",
    "\n",
    "Use a leading underscore to signal 'private' data or method members.\n",
    "\n"
   ]
  },
  {
   "cell_type": "code",
   "execution_count": null,
   "metadata": {
    "collapsed": true
   },
   "outputs": [],
   "source": []
  }
 ],
 "metadata": {
  "kernelspec": {
   "display_name": "Python 3",
   "language": "python",
   "name": "python3"
  },
  "language_info": {
   "codemirror_mode": {
    "name": "ipython",
    "version": 3
   },
   "file_extension": ".py",
   "mimetype": "text/x-python",
   "name": "python",
   "nbconvert_exporter": "python",
   "pygments_lexer": "ipython3",
   "version": "3.6.3"
  }
 },
 "nbformat": 4,
 "nbformat_minor": 2
}
